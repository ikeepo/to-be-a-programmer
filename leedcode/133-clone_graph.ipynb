{
 "cells": [
  {
   "cell_type": "markdown",
   "metadata": {},
   "source": [
    "# [Clone Graph](https://leetcode.com/problems/clone-graph/description/?envType=problem-list-v2&envId=graph)"
   ]
  },
  {
   "cell_type": "code",
   "execution_count": null,
   "metadata": {
    "vscode": {
     "languageId": "plaintext"
    }
   },
   "outputs": [],
   "source": [
    "\"\"\"\n",
    "# Definition for a Node.\n",
    "class Node:\n",
    "    def __init__(self, val = 0, neighbors = None):\n",
    "        self.val = val\n",
    "        self.neighbors = neighbors if neighbors is not None else []\n",
    "\"\"\"\n",
    "\n",
    "from typing import Optional\n",
    "class Solution:\n",
    "    def cloneGraph(self, node: 'Node') -> 'Node':\n",
    "        print(\"DDDDDDDDDDDDDDD\")\n",
    "        if not node: return node\n",
    "        \n",
    "        q, clones = deque([node]), {node.val: Node(node.val, [])}\n",
    "        while q:\n",
    "            cur = q.popleft() \n",
    "            cur_clone = clones[cur.val]            \n",
    "\n",
    "            for ngbr in cur.neighbors:\n",
    "                if ngbr.val not in clones:\n",
    "                    clones[ngbr.val] = Node(ngbr.val, [])\n",
    "                    q.append(ngbr)\n",
    "                    \n",
    "                cur_clone.neighbors.append(clones[ngbr.val])\n",
    "        print(clones) \n",
    "        return clones[node.val]"
   ]
  },
  {
   "cell_type": "markdown",
   "metadata": {},
   "source": [
    "# Confusion\n",
    "### Part1\n",
    "What make me confuse is that the input in def is a Node, but the testcase is a list [[2,4],[1,3],[2,4],[1,3]].  This class represents a node in an undirected graph.    \n",
    "They are not point-to-point, there is a test framework converts the adjacecy list into a graph of Node objects.  \n",
    "\n",
    "The testcase is just description, not exact the input.  \n",
    "### Part 2: No Infinite Structure\n",
    "This class represents a node in an undirected graph, where neighbors holds references to other Node object.    \n",
    "In an undirected graph, edges are bidirectional, if Node1 is connected to Node2, then Node2 is connected to Node1, this is implemented by reference  in Node1.neighbors.  \n"
   ]
  },
  {
   "cell_type": "markdown",
   "metadata": {},
   "source": [
    "# Python Memory Layout \n",
    "does list in python always reference?\n",
    "\n"
   ]
  }
 ],
 "metadata": {
  "language_info": {
   "name": "python"
  }
 },
 "nbformat": 4,
 "nbformat_minor": 2
}
