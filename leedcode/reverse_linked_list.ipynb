{
 "cells": [
  {
   "cell_type": "code",
   "execution_count": null,
   "metadata": {
    "vscode": {
     "languageId": "rust"
    }
   },
   "outputs": [],
   "source": [
    "pub struct ListNode {\n",
    "    pub val: i32,\n",
    "    pub next: Option<Box<ListNode>>\n",
    "}\n"
   ]
  },
  {
   "cell_type": "markdown",
   "metadata": {},
   "source": [
    "# Memory Explaination\n",
    "val is 4 bytes, next is a pointer with 8 bytes on a 64bit machine. \n",
    "Rust aligns structs to the largest field's alignment.  \n",
    "So the ListNode is padded to a multiple of 8 bytes.  \n",
    "It is 16 bytes( 4 for val, 8 for next, 4 for padding)   \n",
    "\n",
    "The rust compiler know the val is 32bits from type system, and compiled to a machine code that use `mov` to move specific length data to a 32bits register `eax`.  \n",
    "# Memory Detail\n",
    "`1 -> 2 -> None`  \n",
    "Heap:   \n",
    "0x1000: ListNode { val: 1, next: Some(0x2000) }  ; 16 bytes\n",
    "0x2000: ListNode { val: 2, next: None }          ; 16 bytes\n",
    "Stack:  \n",
    "node: Box<ListNode>, 8bytes, holding 0x1000;   \n",
    "curr: Option<Box<ListNode>>, 8bytes, Some(0x1000);   \n",
    "node.next:  \n",
    "Stored at `0x1004` ,value is `Some(0x2000)`.   \n",
    "\n",
    "curr = node.next copy the value of node.next(Some(0x2000)) to curr which overwrite 0x1000, and the node.next still hold another Some(0x2000);   \n",
    "# Why it's copy rather move\n",
    "From memory perspective, it's copy. from Rust it's move.  \n",
    "Which means you can't use node.next after move, but it's part of a struct, so the memory location can still be used.\n"
   ]
  },
  {
   "cell_type": "code",
   "execution_count": null,
   "metadata": {
    "vscode": {
     "languageId": "rust"
    }
   },
   "outputs": [],
   "source": [
    "impl Solution {\n",
    "    pub fn reverse_list(head: Option<Box<ListNode>>) -> Option<Box<ListNode>> {\n",
    "        let (mut prev, mut curr) = (None, head);\n",
    "        while let Some(mut node) = curr  {\n",
    "            curr = node.next;\n",
    "            // \n",
    "            node.next = prev;\n",
    "            \n",
    "            prev = Some(node);\n",
    "        }\n",
    "        prev\n",
    "    }\n",
    "}"
   ]
  }
 ],
 "metadata": {
  "language_info": {
   "name": "python"
  }
 },
 "nbformat": 4,
 "nbformat_minor": 2
}
