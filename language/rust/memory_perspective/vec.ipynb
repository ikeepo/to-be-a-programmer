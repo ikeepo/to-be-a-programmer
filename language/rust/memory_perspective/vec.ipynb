{
 "cells": [
  {
   "cell_type": "markdown",
   "metadata": {},
   "source": [
    "# Vec\n",
    "Dynamic-size, heap-allocated collection.  \n",
    "Vec need to store metadata(pointer, length, capacity)   \n",
    "Which means it's size in memory is:    \n",
    "$size_of::<T>() * len + metadata$    \n",
    "Never copy, can only moves or clones.    \n",
    "# Growhth Strategy\n",
    "if the pushed value make length > capacity, Rust usually uses *doubling strategy*.   \n",
    "Then it copy the raw buffer to new place, add new element.  \n",
    "If the underlying data implemented Copy, otherwise it would move.  "
   ]
  }
 ],
 "metadata": {
  "language_info": {
   "name": "python"
  }
 },
 "nbformat": 4,
 "nbformat_minor": 2
}
