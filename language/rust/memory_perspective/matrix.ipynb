{
 "cells": [
  {
   "cell_type": "markdown",
   "metadata": {},
   "source": [
    "# Matrix\n",
    "A contiguous block of memory, often using a one-dimensional array or vector to story elements, with indexing logic to simulate a two-dimensional structure.   \n",
    "Like `Vec<T>` or library [`ndarray`](https://docs.rs/ndarray/latest/ndarray/)    \n",
    "Matrix is not a built-in type in Rust, it use Array or Vec to implemented.  \n",
    "Matrix is a higher level "
   ]
  }
 ],
 "metadata": {
  "language_info": {
   "name": "python"
  }
 },
 "nbformat": 4,
 "nbformat_minor": 2
}
