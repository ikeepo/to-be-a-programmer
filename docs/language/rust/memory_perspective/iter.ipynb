{
 "cells": [
  {
   "cell_type": "markdown",
   "metadata": {},
   "source": [
    "# Iter\n",
    "`for` loop automatically calls `.into_iter()` ;  \n",
    "`for (dr, dc) in directions.iter()` returns an iterator yielding `&(i32, i32)` for each tuple.      \n",
    "`for (dr, dc) in &directions` are functionally equivalent.    \n",
    "But the *destructuring* would into `(dr, dc)` rather `&(dr,dc)`.  Because `i32` has `Copy`, so Rust implicitly copies the `i32` values into `dc, dr`, avoiding reference syntax in the loop body.  \n",
    "It's a convenience for `Copy` types, as copying `i32` is cheap.  \n"
   ]
  }
 ],
 "metadata": {
  "language_info": {
   "name": "python"
  }
 },
 "nbformat": 4,
 "nbformat_minor": 2
}
