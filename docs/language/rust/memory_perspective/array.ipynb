{
 "cells": [
  {
   "cell_type": "markdown",
   "metadata": {},
   "source": [
    "# Array \n",
    "Fixed Sized, stock-allocated collection of elements of the same type, defined by `[T;N]`;   \n",
    "Fixed at compile time.   \n",
    "\n",
    "## [Array vs Matrix](./matrix.ipynb)\n",
    "## [Array Vs Vec](./vec.ipynb)\n",
    "Array don't have memory overhead,  this means the location is calculated at compile time, because the type system of Rust carries information, and compiler can calculate relying on that.  "
   ]
  }
 ],
 "metadata": {
  "language_info": {
   "name": "python"
  }
 },
 "nbformat": 4,
 "nbformat_minor": 2
}
