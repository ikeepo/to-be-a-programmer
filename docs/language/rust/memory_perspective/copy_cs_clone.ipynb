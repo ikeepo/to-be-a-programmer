{
 "cells": [
  {
   "cell_type": "markdown",
   "metadata": {},
   "source": [
    "# Copy vs Clone\n",
    "## Copy\n",
    "Implicit, bitwise duplicatio,   \n",
    "simple, for stack-only, fixed-size types: `i32`, `[i32;N]`  \n",
    "## Clone \n",
    "Explicit, customizable duplication.   \n",
    "for complex types.  `Vec<T>`.  \n",
    "# Copy vs Move\n",
    "Whether an assignment is  `move` or `copy` depends on type's traits."
   ]
  }
 ],
 "metadata": {
  "language_info": {
   "name": "python"
  }
 },
 "nbformat": 4,
 "nbformat_minor": 2
}
