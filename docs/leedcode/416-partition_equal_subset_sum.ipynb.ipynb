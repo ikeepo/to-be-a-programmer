{
 "cells": [
  {
   "cell_type": "markdown",
   "metadata": {},
   "source": [
    "# [416-Partition Equal Subset Sum](https://leetcode.com/problems/partition-equal-subset-sum/)\n",
    "\n",
    "# [Confusion Source](./index.md#confusion-source)\n",
    "### How to Tranverse all subset possibles\n",
    "Wrong question\n",
    "### DP array\n",
    "A boolean array to track certain items in an array.\n",
    "\n",
    "\n",
    "\n",
    "# Algorithm: \n",
    "[0-1 Knapsack](../machine_learning/models/dynamic_programming/knapsack.md)\n",
    "\n",
    "# 做题流程\n",
    "- 读一遍题目，二级查询中间不了解的概念\n",
    "\n",
    "- 读一遍答案，理解一遍逻辑，二级查询中间提及的概念\n",
    "\n",
    "- 研究一遍[算法](../machine_learning/models/index.md#how-to-understand-a-algorithm)，手写两遍procedure\n",
    "\n",
    "- 让Grok解答一遍题目，理解中间概念\n",
    "\n",
    "- 抄写一遍答案，查询相关语法知识\n",
    "\n",
    "- 默写答案，直到可以写出，补充提及概念\n",
    "\n",
    "- 一天没完成，放弃，完成其他的"
   ]
  },
  {
   "cell_type": "code",
   "execution_count": null,
   "metadata": {
    "vscode": {
     "languageId": "plaintext"
    }
   },
   "outputs": [],
   "source": []
  }
 ],
 "metadata": {
  "language_info": {
   "name": "python"
  }
 },
 "nbformat": 4,
 "nbformat_minor": 2
}
