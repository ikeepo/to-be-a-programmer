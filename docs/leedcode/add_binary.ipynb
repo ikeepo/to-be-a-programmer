{
 "cells": [
  {
   "cell_type": "code",
   "execution_count": null,
   "metadata": {
    "vscode": {
     "languageId": "rust"
    }
   },
   "outputs": [],
   "source": [
    "impl Solution {\n",
    "    pub fn add_binary(a: String, b: String) -> String {\n",
    "        use std::iter;\n",
    "        let mut carry = 0;\n",
    "        let mut cur_sum = 0;\n",
    "        let mut char_vec = a\n",
    "            .as_bytes() // to &[u8]\n",
    "            .iter()\n",
    "            .rev()\n",
    "            .chain(iter::repeat(&b'0'))\n",
    "            .zip(b.as_bytes().iter().rev().chain(iter::repeat(&b'0')))\n",
    "            .take(a.len().max(b.len()))\n",
    "            .map(|(ac, bc)| {\n",
    "                // ac is a &u8 \n",
    "                cur_sum = (*ac - b'0') + (*bc - b'0') + carry;\n",
    "                // so *ac is 48 or 49\n",
    "                // b'0' is a byte literal, which has the type u8, storing the ASCII value of the character.  \n",
    "                // b'0' is 48, so it's 48 - 48, or 49 -48 to get 0 or 1\n",
    "                carry = cur_sum / 2;\n",
    "                match cur_sum % 2 {\n",
    "                    1 => '1',\n",
    "                    _ => '0',\n",
    "                }\n",
    "            })\n",
    "            .collect::<Vec<_>>();  // _ is a placeholder tell compiler to infer type\n",
    "\n",
    "        if carry == 1 {\n",
    "            char_vec.push('1');\n",
    "        }\n",
    "\n",
    "        char_vec.iter().rev().collect()\n",
    "    }\n",
    "}"
   ]
  },
  {
   "cell_type": "markdown",
   "metadata": {},
   "source": [
    "# Concepts\n",
    "## Carry Over\n",
    "It refers to the digit that's transferred to the next higher place value when the sum of digits in a given place exceeds the base of the number system .  \n",
    "## cur_sum\n",
    "\n",
    "## rev\n",
    "bytes of `a` are processed from right to left (least significant bit to most significant bit).  \n",
    "This matchs the order of the binary addition, which starts fromthe right.   \n"
   ]
  }
 ],
 "metadata": {
  "language_info": {
   "name": "python"
  }
 },
 "nbformat": 4,
 "nbformat_minor": 2
}
