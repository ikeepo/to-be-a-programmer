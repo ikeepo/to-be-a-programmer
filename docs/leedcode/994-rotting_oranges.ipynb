{
 "cells": [
  {
   "cell_type": "markdown",
   "metadata": {},
   "source": [
    "# [994](https://leetcode.com/problems/rotting-oranges/solutions/6687540/flood-fill-swap-two-queue/) \n",
    "# Confusion  \n",
    "## 题目不难理解，困惑在如何组织具体的计算逻辑  \n"
   ]
  }
 ],
 "metadata": {
  "language_info": {
   "name": "python"
  }
 },
 "nbformat": 4,
 "nbformat_minor": 2
}
