{
 "cells": [
  {
   "cell_type": "markdown",
   "metadata": {},
   "source": [
    "# [721](https://leetcode.com/problems/accounts-merge/solutions/5650653/js-rust-union-find-approach-w-explanation/)\n",
    "# Algorithm\n",
    "[Union-Find](../machine_learning/models/graph/union_find.md)\n",
    "\n",
    "Disjoint-Set\n",
    "\n",
    "Kruskal's Algorithm\n",
    "# Confusion\n",
    "###  "
   ]
  }
 ],
 "metadata": {
  "language_info": {
   "name": "python"
  }
 },
 "nbformat": 4,
 "nbformat_minor": 2
}
