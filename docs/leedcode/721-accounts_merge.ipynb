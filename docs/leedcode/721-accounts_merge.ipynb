{
 "cells": [
  {
   "cell_type": "markdown",
   "metadata": {},
   "source": [
    "# [721](https://leetcode.com/problems/accounts-merge/solutions/5650653/js-rust-union-find-approach-w-explanation/)\n",
    "# Algorithm\n",
    "[Union-Find](../machine_learning/models/graph/union_find.md)\n",
    "\n",
    "Disjoint-Set\n",
    "\n",
    "Kruskal's Algorithm\n",
    "# Confusion\n",
    "### why parent and height can define a graph, where is the nodes?\n",
    "```rust\n",
    "struct UnionFindGraph {\n",
    "    parent: Vec<usize>;\n",
    "    height: Vec<usize>;\n",
    "}\n",
    "```\n",
    "The `nodes` are indexes of parent.\n",
    "\n",
    "the `height` is the count of set elements, rather the `rank` of set.\n",
    "### `root` `parent` `node`\n",
    "a's parent is a, a is root.\n",
    "\n",
    "\n"
   ]
  }
 ],
 "metadata": {
  "language_info": {
   "name": "python"
  }
 },
 "nbformat": 4,
 "nbformat_minor": 2
}
