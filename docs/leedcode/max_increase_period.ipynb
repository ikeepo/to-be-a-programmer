{
 "cells": [
  {
   "cell_type": "markdown",
   "metadata": {},
   "source": [
    "# current_increase\n",
    "```\n",
    "variables: start_index, end_index\n",
    "constrain: value[i] > value[i-1]\n",
    "```\n",
    "# max_increase\n",
    "```\n",
    "variables: start_index, end_index\n",
    "constrain: current > max\n",
    "```"
   ]
  },
  {
   "cell_type": "code",
   "execution_count": 14,
   "metadata": {},
   "outputs": [
    {
     "name": "stdout",
     "output_type": "stream",
     "text": [
      "ci: start_index=6 end_index=6\n",
      "mi: start_index=2 end_index=5\n",
      "max_length: 4\n"
     ]
    }
   ],
   "source": [
    "\n",
    "net_values = [1.2, 2.3, 1.5, 1.6, 1.7, 1.9, 1.3]\n",
    "from pydantic import BaseModel\n",
    "class IncreaseSequence(BaseModel):\n",
    "    start_index: int \n",
    "    end_index: int\n",
    "    @property\n",
    "    def length(self) -> int:\n",
    "        return self.end_index - self.start_index + 1\n",
    "current_incseq = IncreaseSequence(start_index=0, end_index=0)\n",
    "max_incseq = IncreaseSequence(start_index=0, end_index=0)\n",
    "for i in range(1, len(net_values)):\n",
    "    if net_values[i] > net_values[i-1]:\n",
    "        current_incseq.end_index = i\n",
    "        if current_incseq.length > max_incseq.length:\n",
    "            max_incseq.start_index = current_incseq.start_index\n",
    "            max_incseq.end_index = current_incseq.end_index\n",
    "        else:\n",
    "            pass\n",
    "    else:\n",
    "        current_incseq.start_index = i\n",
    "        current_incseq.end_index = i\n",
    "print(f\"ci: {current_incseq}\\nmi: {max_incseq}\")\n",
    "print(f\"max_length: {max_incseq.length}\")"
   ]
  }
 ],
 "metadata": {
  "kernelspec": {
   "display_name": "pergamum-5Gimrt47-py3.12",
   "language": "python",
   "name": "python3"
  },
  "language_info": {
   "codemirror_mode": {
    "name": "ipython",
    "version": 3
   },
   "file_extension": ".py",
   "mimetype": "text/x-python",
   "name": "python",
   "nbconvert_exporter": "python",
   "pygments_lexer": "ipython3",
   "version": "3.12.2"
  }
 },
 "nbformat": 4,
 "nbformat_minor": 2
}
