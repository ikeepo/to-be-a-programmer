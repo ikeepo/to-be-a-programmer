{
 "cells": [
  {
   "cell_type": "markdown",
   "metadata": {},
   "source": [
    "# Matrix\n",
    "这个题目的困难有两个点：  \n",
    "- 在于cell的值不是以cell本身作为出发点计算得到，而是cell作为neighbor计算。    \n",
    "也就是跟人直观的方向相反。直观是以cell为中心，计算周边。但是程序计算是有初始点的，剩余所有的cell都是初始点某种关系下的neighbor。   \n",
    "- cell计算有顺序，先计算value=0的，这就保证了value=1而边上有0的cell不会被错误的先加1个距离，后面才发现边上有0    \n"
   ]
  }
 ],
 "metadata": {
  "language_info": {
   "name": "python"
  }
 },
 "nbformat": 4,
 "nbformat_minor": 2
}
