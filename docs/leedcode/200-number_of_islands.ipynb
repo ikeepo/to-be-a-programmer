{
 "cells": [
  {
   "cell_type": "markdown",
   "metadata": {},
   "source": [
    "# [Number of Island](https://leetcode.com/problems/number-of-islands/description/) \n",
    "294\n",
    "\n"
   ]
  },
  {
   "cell_type": "markdown",
   "metadata": {},
   "source": [
    "## Confusion \n",
    "### 似乎并没有解决`!0`被自动识别为usize的问题\n",
    "因为`0`是在index中被使用，所以被识别为usize导致值非常大。   \n",
    "### `wrapping_add` is the mod(2^n) add "
   ]
  }
 ],
 "metadata": {
  "language_info": {
   "name": "python"
  }
 },
 "nbformat": 4,
 "nbformat_minor": 2
}
