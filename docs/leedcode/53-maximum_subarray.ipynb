{
 "cells": [
  {
   "cell_type": "markdown",
   "metadata": {},
   "source": [
    "# [Maximum Subarray](https://leetcode.com/problems/maximum-subarray/description/)\n",
    "\n",
    "# [Confusion Source](./index.md#confusion-source)\n",
    "### how to stop the sub sequence, if next one is neg and next two is big positive?\n",
    "\n",
    "### `max_so_far` vs `max_ending_here`\n",
    "\n",
    "# Algorithm: [Kadane's Algorithm](../machine_learning/models/dynamic_programming/kadane_algorithm.md)\n",
    "\n",
    "# 做题流程\n",
    "- 读一遍题目，二级查询中间不了解的概念\n",
    "\n",
    "- 读一遍答案，理解一遍逻辑，二级查询中间提及的概念\n",
    "\n",
    "- 研究一遍[算法](../machine_learning/models/index.md#how-to-understand-a-algorithm)，手写两遍procedure\n",
    "\n",
    "- 抄写一遍答案，查询相关语法知识\n",
    "\n",
    "- 默写答案，直到可以写出，补充提及概念\n",
    "\n",
    "- 一天没完成，放弃，完成其他的"
   ]
  },
  {
   "cell_type": "code",
   "execution_count": null,
   "metadata": {
    "vscode": {
     "languageId": "plaintext"
    }
   },
   "outputs": [],
   "source": []
  }
 ],
 "metadata": {
  "language_info": {
   "name": "python"
  }
 },
 "nbformat": 4,
 "nbformat_minor": 2
}
