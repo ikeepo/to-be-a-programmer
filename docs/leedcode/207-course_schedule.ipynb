{
 "cells": [
  {
   "cell_type": "markdown",
   "metadata": {},
   "source": [
    "# [Course Schedule](https://leetcode.com/problems/course-schedule/description/)\n",
    "## Confusion Points \n",
    "### Order of Completion vs Dependency Relationship\n",
    "dependency [a,b] means take b before take a, this is represented by a to b, not intuitively b to a .   \n",
    "\n",
    "The graph is modeling the dependencies, rather the order of execution.   \n",
    "###  raltionship between  numCourses and prerequisites \n",
    "numCourses means the course id constraint in prerequisites.  \n",
    "prerequisite is the adjecency list.   \n",
    "`numCourses` defines the scope of the graph.  \n",
    "Not accustomed to translating real-world scenarios into graph problem. `numCourses` is structural role.  \n",
    "`numCourses`'s role becomes clear only when you model the problem as a graph.   \n",
    "Intuitive makes `numCourses` seem like an element rather constraint.  \n",
    "\n",
    "\n",
    "\n",
    "\n"
   ]
  },
  {
   "cell_type": "markdown",
   "metadata": {},
   "source": [
    "# Computation Don't Human Intuitive"
   ]
  }
 ],
 "metadata": {
  "language_info": {
   "name": "python"
  }
 },
 "nbformat": 4,
 "nbformat_minor": 2
}
