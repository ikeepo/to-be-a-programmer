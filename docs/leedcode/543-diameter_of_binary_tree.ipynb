{
 "cells": [
  {
   "cell_type": "markdown",
   "metadata": {},
   "source": [
    "# [Diameter of Binary Tree](https://leetcode.com/problems/diameter-of-binary-tree/description/)\n",
    "# Key Consciousness \n",
    "The trick is to realize that the diameter can be one of the following:  \n",
    "1. depth of the left + depth of the right   \n",
    "2. diameter of a subtree within the left part   \n",
    "3. diameter of a subtree within the right part  "
   ]
  },
  {
   "cell_type": "code",
   "execution_count": null,
   "metadata": {
    "vscode": {
     "languageId": "rust"
    }
   },
   "outputs": [],
   "source": [
    "// Definition for a binary tree node.\n",
    "// #[derive(Debug, PartialEq, Eq)]\n",
    "// pub struct TreeNode {\n",
    "//   pub val: i32,\n",
    "//   pub left: Option<Rc<RefCell<TreeNode>>>,\n",
    "//   pub right: Option<Rc<RefCell<TreeNode>>>,\n",
    "// }\n",
    "// \n",
    "// impl TreeNode {\n",
    "//   #[inline]\n",
    "//   pub fn new(val: i32) -> Self {\n",
    "//     TreeNode {\n",
    "//       val,\n",
    "//       left: None,\n",
    "//       right: None\n",
    "//     }\n",
    "//   }\n",
    "// }\n",
    "use std::rc::Rc;\n",
    "use std::cell::RefCell;\n",
    "impl Solution {\n",
    "    pub fn diameter_of_binary_tree(root: Option<Rc<RefCell<TreeNode>>>) -> i32 {\n",
    "        fn depth(root: &Option<Rc<RefCell<TreeNode>>>) -> (i32, i32) {\n",
    "            match root {\n",
    "                None => (0,0),\n",
    "                Some(n) => {\n",
    "                    let (l, x) = depth(&n.borrow().left);\n",
    "                    let (r, y) = depth(&n.borrow().right);\n",
    "                    let di = x.max(y).max(l+r);\n",
    "                    let dp = 1 + l.max(r);\n",
    "                    (dp, di)\n",
    "                }\n",
    "            }\n",
    "        }\n",
    "        depth(&root).1\n",
    "    }\n",
    "}"
   ]
  },
  {
   "cell_type": "markdown",
   "metadata": {},
   "source": [
    "# Confusion come from `let dp = 1 + l.max(r)`\n",
    "Normally the value is added from an initialed value like 0, but here is starts from `1+`, untill finally `+0`, reversed compared with normal.\n",
    "\n",
    "Actually, it's analogous to a `while` loop stopping when its condition becomes `false`.   \n",
    "# is recursive always act like this way?"
   ]
  }
 ],
 "metadata": {
  "language_info": {
   "name": "python"
  }
 },
 "nbformat": 4,
 "nbformat_minor": 2
}
