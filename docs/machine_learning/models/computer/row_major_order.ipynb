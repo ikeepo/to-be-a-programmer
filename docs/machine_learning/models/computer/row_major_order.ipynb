{
 "cells": [
  {
   "cell_type": "markdown",
   "metadata": {},
   "source": [
    "# Row-Major Order\n",
    "Elements are stored or processed row by row.  \n",
    "All elements in onw row are stored continuously in memory before moving to the next row.  \n"
   ]
  },
  {
   "cell_type": "code",
   "execution_count": null,
   "metadata": {
    "vscode": {
     "languageId": "rust"
    }
   },
   "outputs": [],
   "source": [
    "[ [1, 2, 3, 4],\n",
    "  [5, 6, 7, 8],\n",
    "  [9, 10, 11, 12] ]\n",
    "\n",
    "// in memory\n",
    "1, 2, 3, 4, 5, 6, 7, 8, 9, 10, 11, 12"
   ]
  }
 ],
 "metadata": {
  "language_info": {
   "name": "python"
  }
 },
 "nbformat": 4,
 "nbformat_minor": 2
}
