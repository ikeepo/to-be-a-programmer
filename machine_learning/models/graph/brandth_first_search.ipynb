{
 "cells": [
  {
   "cell_type": "markdown",
   "metadata": {},
   "source": [
    "# Brand First Search\n",
    "Graph tranversal algorithm that explores all vertices of a graph by visiting all neighbors of the current node before moving to the neightbors of those neightbors.  \n",
    "# Steps\n",
    "1. Initialize a queue with the starting node  \n",
    "2. Mark the starting node as visited   \n",
    "3. While the queue is not empty   \n",
    "3.1 dequeue the front node   \n",
    "3.2 process the node   \n",
    "3.3 enqueue all unvisited neightbors, marking them as visited   \n",
    "4. Continue untill the queue is empty   \n"
   ]
  }
 ],
 "metadata": {
  "language_info": {
   "name": "python"
  }
 },
 "nbformat": 4,
 "nbformat_minor": 2
}
